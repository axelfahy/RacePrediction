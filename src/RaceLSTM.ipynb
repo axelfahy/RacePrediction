{
 "cells": [
  {
   "cell_type": "markdown",
   "metadata": {},
   "source": [
    "# Race LSTM prediction\n",
    "The aim of this notebook is to train a LSTM model being able to predict speed of the runner at the next data point."
   ]
  },
  {
   "cell_type": "code",
   "execution_count": 1,
   "metadata": {
    "collapsed": false
   },
   "outputs": [
    {
     "name": "stderr",
     "output_type": "stream",
     "text": [
      "Using TensorFlow backend.\n"
     ]
    }
   ],
   "source": [
    "import glob\n",
    "import os\n",
    "import pandas as pd\n",
    "import dateutil.parser\n",
    "from datetime import datetime\n",
    "\n",
    "import numpy as np\n",
    "from matplotlib import pyplot as plt\n",
    "\n",
    "from keras.models import Sequential\n",
    "from keras.layers import Dense, Activation, Dropout\n",
    "from keras.layers import LSTM\n",
    "from keras.optimizers import RMSprop\n",
    "from keras.utils import np_utils\n",
    "\n",
    "from sklearn import metrics as me\n",
    "from sklearn.utils import shuffle\n",
    "import sklearn.linear_model as lm\n",
    "\n",
    "%matplotlib inline"
   ]
  },
  {
   "cell_type": "code",
   "execution_count": 2,
   "metadata": {
    "collapsed": false
   },
   "outputs": [
    {
     "name": "stdout",
     "output_type": "stream",
     "text": [
      "Processing activity_437398751.tab\n",
      "Processing activity_437398728.tab\n",
      "Processing activity_404227667.tab\n",
      "Processing activity_437398762.tab\n",
      "Processing activity_377304158.tab\n",
      "Processing activity_447149230.tab\n",
      "Processing activity_437398739.tab\n",
      "Processing activity_437398771.tab\n",
      "Processing activity_396872154.tab\n",
      "Processing activity_447656990.tab\n",
      "Processing activity_373735080.tab\n",
      "Processing activity_373734948.tab\n",
      "Processing activity_437398768.tab\n",
      "Processing activity_437398746.tab\n",
      "Processing activity_404227656.tab\n",
      "Processing activity_437398721.tab\n",
      "Processing activity_437398717.tab\n",
      "Processing activity_437398782.tab\n",
      "Processing activity_373735106.tab\n",
      "Processing activity_437398753.tab\n",
      "Processing activity_437398761.tab\n",
      "Processing activity_377304230.tab\n",
      "Processing activity_437398778.tab\n",
      "Processing activity_437398785.tab\n",
      "Processing activity_379843442.tab\n",
      "Processing activity_404227695.tab\n",
      "Processing activity_367230665.tab\n",
      "Processing activity_447149252.tab\n",
      "Processing activity_447149261.tab\n",
      "Processing activity_447149239.tab\n",
      "Processing activity_404227677.tab\n",
      "Processing activity_384747476.tab\n",
      "Processing activity_373735010.tab\n",
      "\n",
      "Dataset sample\n",
      "   time   elevation   distance  speed     slope\n",
      "0   0.0  858.400024   0.500000  2.372  0.057380\n",
      "1   1.0  858.400024   1.740000  2.187  0.056713\n",
      "2   4.0  859.200012  11.300000  2.425  0.056653\n",
      "3   5.0  859.400024  15.210000  2.690  0.057973\n",
      "4  11.0  861.000000  36.490002  3.122  0.054931\n",
      "5  15.0  861.400024  47.270000  3.382  0.053070\n",
      "6  20.0  861.799988  61.230000  2.904  0.051486\n",
      "7  25.0  862.400024  72.169998  2.486  0.050327\n",
      "8  29.0  863.200012  81.059998  2.401  0.048273\n",
      "9  34.0  863.799988  94.839996  2.426  0.043934\n"
     ]
    }
   ],
   "source": [
    "# Load the dataset\n",
    "PATH_DATA = \"../data/running/APE_running_data\"\n",
    "\n",
    "def convert(date):\n",
    "    dt = dateutil.parser.parse(date).replace(tzinfo=None)\n",
    "    epoch = datetime.utcfromtimestamp(0)\n",
    "    delta = dt - epoch\n",
    "    return delta.total_seconds()\n",
    "\n",
    "colnames = np.array(['time', 'elevation', 'distance', 'speed'])\n",
    "datasets_all = []\n",
    "\n",
    "os.chdir(PATH_DATA)\n",
    "for file in glob.glob(\"*.tab\"):\n",
    "    print(\"Processing {}\".format(file))\n",
    "    dataset = np.genfromtxt(file, skip_header=1,delimiter='\\t', converters={0: convert})\n",
    "    dataset[:,0] -= dataset[0,0]\n",
    "    dataset = pd.DataFrame(dataset,columns=colnames)\n",
    "    slope = np.array([])\n",
    "    window_size_half = 8\n",
    "    for j in dataset.index:\n",
    "        index = np.arange(j-window_size_half+1, j+window_size_half+1)\n",
    "        index = index[(index >= 0) & (index < len(dataset))]\n",
    "        dataset_part = dataset.iloc[index].dropna()\n",
    "        regr = lm.LinearRegression()\n",
    "        regr.fit(dataset_part.distance[:,np.newaxis], np.array(dataset_part.elevation))\n",
    "        slope = np.append(slope,regr.coef_)\n",
    "    dataset['slope'] = slope\n",
    "    if (len(dataset) > 300) == (len(dataset) < 900):\n",
    "        datasets_all.append(dataset)\n",
    "\n",
    "print('\\nDataset sample')\n",
    "print(datasets_all[0][:10])"
   ]
  },
  {
   "cell_type": "code",
   "execution_count": 82,
   "metadata": {
    "collapsed": false
   },
   "outputs": [
    {
     "name": "stdout",
     "output_type": "stream",
     "text": [
      "Race=0 (616 samples) (train)\n",
      "Race=1 (725 samples) (train)\n",
      "Race=2 (418 samples) (train)\n",
      "Race=3 (735 samples) (train)\n",
      "Race=4 (655 samples) (train)\n",
      "Race=5 (732 samples) (test)\n",
      "Race=6 (823 samples) (test)\n"
     ]
    }
   ],
   "source": [
    "# Number of points taken for each prediction\n",
    "NB_POINTS = 10\n",
    "# Number of races taken for the training set\n",
    "NB_TRAINING = 5 \n",
    "# Number of races taken for the testing set\n",
    "NB_TEST = 2\n",
    "# Shuffle data or not ?\n",
    "SHUFFLE = False\n",
    "# List of features (columns of dataframe)\n",
    "FEATURES = ['time', 'elevation', 'distance', 'speed', 'slope']\n",
    "\n",
    "# Remove NaN values in dataset\n",
    "dataset = [i.dropna() for i in datasets_all]\n",
    "\n",
    "# Filter features\n",
    "dataset = [x[FEATURES] for x in dataset]\n",
    "\n",
    "seq = []\n",
    "next_speed = []\n",
    "\n",
    "# Creation of train set\n",
    "for race in range(NB_TRAINING):\n",
    "    print('Race={} ({} samples) (train)'.format(race, len(dataset[race])))\n",
    "    seq_local = []\n",
    "    next_speed_local = []\n",
    "    for i in range(len(dataset[race])-(NB_POINTS+1)):\n",
    "        seq_local.append(dataset[race][i:i+NB_POINTS].as_matrix())\n",
    "        next_speed_local.append(dataset[race][i+NB_POINTS:i+NB_POINTS+1]['speed'].as_matrix())\n",
    "    seq += seq_local\n",
    "    next_speed += next_speed_local\n",
    "        \n",
    "# Transform the data into numpy arrays \n",
    "trainX = np.array(seq)\n",
    "trainY = np.array(next_speed)\n",
    "# Shuffle data\n",
    "if SHUFFLE:\n",
    "    trainX, trainY = shuffle(trainX, trainY, random_state=42)\n",
    "        \n",
    "seq_test = []\n",
    "next_speed_test = []\n",
    "# Creation of test set\n",
    "for race in range(NB_TRAINING, NB_TRAINING + NB_TEST):\n",
    "    print('Race={} ({} samples) (test)'.format(race, len(dataset[race])))\n",
    "    seq_test_local = []\n",
    "    next_speed_test_local = []\n",
    "    for i in range(len(dataset[race])-(NB_POINTS+1)):\n",
    "        seq_test_local.append(dataset[race][i:i+NB_POINTS].as_matrix())\n",
    "        next_speed_test_local.append(dataset[race][i+NB_POINTS:i+NB_POINTS+1]['speed'].as_matrix())\n",
    "    seq_test += seq_test_local\n",
    "    next_speed_test += next_speed_test_local\n",
    "        \n",
    "# Transform the data into numpy arrays \n",
    "testX = np.array(seq_test)\n",
    "testY = np.array(next_speed_test)\n",
    "# Shuffle data\n",
    "if SHUFFLE:\n",
    "    testX, testY = shuffle(testX, testY, random_state=42)"
   ]
  },
  {
   "cell_type": "code",
   "execution_count": 83,
   "metadata": {
    "collapsed": false
   },
   "outputs": [
    {
     "name": "stdout",
     "output_type": "stream",
     "text": [
      "_________________________________________________________________\n",
      "Layer (type)                 Output Shape              Param #   \n",
      "=================================================================\n",
      "lstm_8 (LSTM)                (None, 4)                 144       \n",
      "_________________________________________________________________\n",
      "dense_8 (Dense)              (None, 1)                 5         \n",
      "=================================================================\n",
      "Total params: 149\n",
      "Trainable params: 149\n",
      "Non-trainable params: 0\n",
      "_________________________________________________________________\n"
     ]
    }
   ],
   "source": [
    "BATCH_SIZE = 1\n",
    "LEARNING_RATE = 0.01\n",
    "NB_EPOCHS = 15\n",
    "# Normalization or not ?\n",
    "NORM = False\n",
    "\n",
    "# Create and fit the LSTM network\n",
    "model = Sequential()\n",
    "\n",
    "if NORM:\n",
    "    model.add(BatchNormalization(input_shape=(NB_POINTS, len(FEATURES))))\n",
    "    model.add(LSTM(4))\n",
    "else:\n",
    "    model.add(LSTM(4, input_shape=(NB_POINTS, len(FEATURES))))\n",
    "    \n",
    "model.add(Dense(1))\n",
    "#model.compile(loss='mean_squared_error', optimizer=RMSprop(lr=LEARNING_RATE), metrics=['accuracy'])\n",
    "model.compile(loss='mean_squared_error', optimizer='adam')\n",
    "model.summary()"
   ]
  },
  {
   "cell_type": "code",
   "execution_count": 84,
   "metadata": {
    "collapsed": false
   },
   "outputs": [
    {
     "name": "stdout",
     "output_type": "stream",
     "text": [
      "Train on 3094 samples, validate on 1533 samples\n",
      "Epoch 1/15\n",
      "3094/3094 [==============================] - 20s - loss: 1.7022 - val_loss: 0.7855\n",
      "Epoch 2/15\n",
      "3094/3094 [==============================] - 17s - loss: 0.2745 - val_loss: 0.7603\n",
      "Epoch 3/15\n",
      "3094/3094 [==============================] - 29s - loss: 0.2741 - val_loss: 0.7558\n",
      "Epoch 4/15\n",
      "3094/3094 [==============================] - 37s - loss: 0.2738 - val_loss: 0.7581\n",
      "Epoch 5/15\n",
      "3094/3094 [==============================] - 35s - loss: 0.2742 - val_loss: 0.7585\n",
      "Epoch 6/15\n",
      "3094/3094 [==============================] - 25s - loss: 0.2738 - val_loss: 0.7744\n",
      "Epoch 7/15\n",
      "3094/3094 [==============================] - 20s - loss: 0.2743 - val_loss: 0.7680\n",
      "Epoch 8/15\n",
      "3094/3094 [==============================] - 22s - loss: 0.2741 - val_loss: 0.7533\n",
      "Epoch 9/15\n",
      "3094/3094 [==============================] - 22s - loss: 0.2743 - val_loss: 0.7592\n",
      "Epoch 10/15\n",
      "3094/3094 [==============================] - 21s - loss: 0.2742 - val_loss: 0.7729\n",
      "Epoch 11/15\n",
      "3094/3094 [==============================] - 22s - loss: 0.2738 - val_loss: 0.7517\n",
      "Epoch 12/15\n",
      "3094/3094 [==============================] - 21s - loss: 0.2742 - val_loss: 0.7659\n",
      "Epoch 13/15\n",
      "3094/3094 [==============================] - 20s - loss: 0.2740 - val_loss: 0.7474\n",
      "Epoch 14/15\n",
      "3094/3094 [==============================] - 21s - loss: 0.2743 - val_loss: 0.7727\n",
      "Epoch 15/15\n",
      "3094/3094 [==============================] - 21s - loss: 0.2739 - val_loss: 0.7713\n"
     ]
    }
   ],
   "source": [
    "history = model.fit(trainX, trainY, epochs=NB_EPOCHS, batch_size=BATCH_SIZE, verbose=1, \n",
    "                   validation_data=(testX, testY))"
   ]
  },
  {
   "cell_type": "code",
   "execution_count": 85,
   "metadata": {
    "collapsed": false
   },
   "outputs": [
    {
     "data": {
      "image/png": "[encoded data removed]",
      "text/plain": [
       "<matplotlib.figure.Figure at 0x7fc8359c7710>"
      ]
     },
     "metadata": {},
     "output_type": "display_data"
    }
   ],
   "source": [
    "# Plot the training and testing\n",
    "plt.plot(history.history['loss'], label='Training')\n",
    "plt.plot(history.history['val_loss'], label='Testing')\n",
    "plt.legend()\n",
    "plt.grid()"
   ]
  },
  {
   "cell_type": "code",
   "execution_count": 87,
   "metadata": {
    "collapsed": false
   },
   "outputs": [
    {
     "name": "stdout",
     "output_type": "stream",
     "text": [
      "[[ 2.95021653]\n",
      " [ 2.95021653]\n",
      " [ 2.95021653]\n",
      " [ 2.95021653]\n",
      " [ 2.95021653]\n",
      " [ 2.95021653]\n",
      " [ 2.95021653]\n",
      " [ 2.95021653]\n",
      " [ 2.95021653]\n",
      " [ 2.95021653]]\n"
     ]
    },
    {
     "data": {
      "text/plain": [
       "<matplotlib.legend.Legend at 0x7fc834ce2860>"
      ]
     },
     "execution_count": 87,
     "metadata": {},
     "output_type": "execute_result"
    },
    {
     "data": {
      "image/png": "[encoded data removed]",
      "text/plain": [
       "<matplotlib.figure.Figure at 0x7fc8359cd9e8>"
      ]
     },
     "metadata": {},
     "output_type": "display_data"
    }
   ],
   "source": [
    "# Plot one race with its prediction\n",
    "RACE_NUMBER = NB_TRAINING # First race of testing set \n",
    "# Actual values\n",
    "actual = dataset[RACE_NUMBER]\n",
    "# Predict the future values\n",
    "# testX contains all the testing races, we need to extract data from the first race\n",
    "predictY = model.predict(testX[:len(actual)])\n",
    "print(predictY[:10])\n",
    "\n",
    "# Plot the results\n",
    "plt.figure(figsize=(20,4))\n",
    "plt.suptitle('Prediction')\n",
    "plt.title('History='+str(NB_POINTS)+', Future='+str(1))\n",
    "\n",
    "# Plot the actual values\n",
    "plt.plot(actual['time'], actual['speed'], 'r-', label='Actual')\n",
    "# Plot the predictions\n",
    "plt.plot(actual['time'], predictY, 'gx', label='Predicted')\n",
    "plt.legend()"
   ]
  },
  {
   "cell_type": "code",
   "execution_count": 8,
   "metadata": {
    "collapsed": false
   },
   "outputs": [
    {
     "data": {
      "application/json": {
       "Software versions": [
        {
         "module": "Python",
         "version": "3.6.1 64bit [GCC 6.3.1 20170306]"
        },
        {
         "module": "IPython",
         "version": "6.0.0"
        },
        {
         "module": "OS",
         "version": "Linux 4.10.13 1 ARCH x86_64 with arch"
        },
        {
         "module": "numpy",
         "version": "1.12.0"
        },
        {
         "module": "matplotlib",
         "version": "2.0.0"
        },
        {
         "module": "keras",
         "version": "2.0.3"
        },
        {
         "module": "pandas",
         "version": "0.19.2"
        },
        {
         "module": "sklearn",
         "version": "0.18.1"
        },
        {
         "module": "tensorflow",
         "version": "1.1.0"
        }
       ]
      },
      "text/html": [
       "<table><tr><th>Software</th><th>Version</th></tr><tr><td>Python</td><td>3.6.1 64bit [GCC 6.3.1 20170306]</td></tr><tr><td>IPython</td><td>6.0.0</td></tr><tr><td>OS</td><td>Linux 4.10.13 1 ARCH x86_64 with arch</td></tr><tr><td>numpy</td><td>1.12.0</td></tr><tr><td>matplotlib</td><td>2.0.0</td></tr><tr><td>keras</td><td>2.0.3</td></tr><tr><td>pandas</td><td>0.19.2</td></tr><tr><td>sklearn</td><td>0.18.1</td></tr><tr><td>tensorflow</td><td>1.1.0</td></tr><tr><td colspan='2'>Wed May 24 09:20:29 2017 CEST</td></tr></table>"
      ],
      "text/latex": [
       "\\begin{tabular}{|l|l|}\\hline\n",
       "{\\bf Software} & {\\bf Version} \\\\ \\hline\\hline\n",
       "Python & 3.6.1 64bit [GCC 6.3.1 20170306] \\\\ \\hline\n",
       "IPython & 6.0.0 \\\\ \\hline\n",
       "OS & Linux 4.10.13 1 ARCH x86\\_64 with arch \\\\ \\hline\n",
       "numpy & 1.12.0 \\\\ \\hline\n",
       "matplotlib & 2.0.0 \\\\ \\hline\n",
       "keras & 2.0.3 \\\\ \\hline\n",
       "pandas & 0.19.2 \\\\ \\hline\n",
       "sklearn & 0.18.1 \\\\ \\hline\n",
       "tensorflow & 1.1.0 \\\\ \\hline\n",
       "\\hline \\multicolumn{2}{|l|}{Wed May 24 09:20:29 2017 CEST} \\\\ \\hline\n",
       "\\end{tabular}\n"
      ],
      "text/plain": [
       "Software versions\n",
       "Python 3.6.1 64bit [GCC 6.3.1 20170306]\n",
       "IPython 6.0.0\n",
       "OS Linux 4.10.13 1 ARCH x86_64 with arch\n",
       "numpy 1.12.0\n",
       "matplotlib 2.0.0\n",
       "keras 2.0.3\n",
       "pandas 0.19.2\n",
       "sklearn 0.18.1\n",
       "tensorflow 1.1.0\n",
       "Wed May 24 09:20:29 2017 CEST"
      ]
     },
     "execution_count": 8,
     "metadata": {},
     "output_type": "execute_result"
    }
   ],
   "source": [
    "# Information about software version\n",
    "%load_ext version_information\n",
    "%reload_ext version_information\n",
    "\n",
    "%version_information numpy, matplotlib, keras, pandas, sklearn, tensorflow"
   ]
  }
 ],
 "metadata": {
  "kernelspec": {
   "display_name": "Python 3",
   "language": "python",
   "name": "python3"
  },
  "language_info": {
   "codemirror_mode": {
    "name": "ipython",
    "version": 3
   },
   "file_extension": ".py",
   "mimetype": "text/x-python",
   "name": "python",
   "nbconvert_exporter": "python",
   "pygments_lexer": "ipython3",
   "version": "3.6.1"
  }
 },
 "nbformat": 4,
 "nbformat_minor": 2
}
