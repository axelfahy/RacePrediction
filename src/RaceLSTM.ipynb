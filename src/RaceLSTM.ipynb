{
 "cells": [
  {
   "cell_type": "markdown",
   "metadata": {},
   "source": [
    "# Race LSTM prediction\n",
    "The aim of this notebook is to train a LSTM model being able to predict speed of the runner at the next data point."
   ]
  },
  {
   "cell_type": "code",
   "execution_count": 1,
   "metadata": {
    "collapsed": false
   },
   "outputs": [
    {
     "name": "stderr",
     "output_type": "stream",
     "text": [
      "Using TensorFlow backend.\n"
     ]
    }
   ],
   "source": [
    "import glob\n",
    "import os\n",
    "import pandas as pd\n",
    "import dateutil.parser\n",
    "from datetime import datetime\n",
    "\n",
    "import numpy as np\n",
    "from matplotlib import pyplot as pl\n",
    "\n",
    "from keras.models import Sequential\n",
    "from keras.layers import Dense, Activation, Dropout\n",
    "from keras.layers import LSTM\n",
    "from keras.optimizers import RMSprop\n",
    "from keras.utils import np_utils\n",
    "\n",
    "from sklearn import metrics as me\n",
    "from sklearn.utils import shuffle\n",
    "import sklearn.linear_model as lm\n",
    "\n",
    "%matplotlib inline"
   ]
  },
  {
   "cell_type": "code",
   "execution_count": 2,
   "metadata": {
    "collapsed": false
   },
   "outputs": [
    {
     "name": "stdout",
     "output_type": "stream",
     "text": [
      "Processing activity_437398751.tab\n",
      "Processing activity_437398728.tab\n",
      "Processing activity_404227667.tab\n",
      "Processing activity_437398762.tab\n",
      "Processing activity_377304158.tab\n",
      "Processing activity_447149230.tab\n",
      "Processing activity_437398739.tab\n",
      "Processing activity_437398771.tab\n",
      "Processing activity_396872154.tab\n",
      "Processing activity_447656990.tab\n",
      "Processing activity_373735080.tab\n",
      "Processing activity_373734948.tab\n",
      "Processing activity_437398768.tab\n",
      "Processing activity_437398746.tab\n",
      "Processing activity_404227656.tab\n",
      "Processing activity_437398721.tab\n",
      "Processing activity_437398717.tab\n",
      "Processing activity_437398782.tab\n",
      "Processing activity_373735106.tab\n",
      "Processing activity_437398753.tab\n",
      "Processing activity_437398761.tab\n",
      "Processing activity_377304230.tab\n",
      "Processing activity_437398778.tab\n",
      "Processing activity_437398785.tab\n",
      "Processing activity_379843442.tab\n",
      "Processing activity_404227695.tab\n",
      "Processing activity_367230665.tab\n",
      "Processing activity_447149252.tab\n",
      "Processing activity_447149261.tab\n",
      "Processing activity_447149239.tab\n",
      "Processing activity_404227677.tab\n",
      "Processing activity_384747476.tab\n",
      "Processing activity_373735010.tab\n",
      "\n",
      "Dataset sample\n",
      "   time   elevation   distance  speed     slope\n",
      "0   0.0  858.400024   0.500000  2.372  0.057380\n",
      "1   1.0  858.400024   1.740000  2.187  0.056713\n",
      "2   4.0  859.200012  11.300000  2.425  0.056653\n",
      "3   5.0  859.400024  15.210000  2.690  0.057973\n",
      "4  11.0  861.000000  36.490002  3.122  0.054931\n",
      "5  15.0  861.400024  47.270000  3.382  0.053070\n",
      "6  20.0  861.799988  61.230000  2.904  0.051486\n",
      "7  25.0  862.400024  72.169998  2.486  0.050327\n",
      "8  29.0  863.200012  81.059998  2.401  0.048273\n",
      "9  34.0  863.799988  94.839996  2.426  0.043934\n"
     ]
    }
   ],
   "source": [
    "# Load the dataset\n",
    "PATH_DATA = \"../data/running/APE_running_data\"\n",
    "\n",
    "def convert(date):\n",
    "    dt = dateutil.parser.parse(date).replace(tzinfo=None)\n",
    "    epoch = datetime.utcfromtimestamp(0)\n",
    "    delta = dt - epoch\n",
    "    return delta.total_seconds()\n",
    "\n",
    "colnames = np.array(['time', 'elevation', 'distance', 'speed'])\n",
    "datasets_all = []\n",
    "\n",
    "os.chdir(PATH_DATA)\n",
    "for file in glob.glob(\"*.tab\"):\n",
    "    print(\"Processing {}\".format(file))\n",
    "    dataset = np.genfromtxt(file, skip_header=1,delimiter='\\t', converters={0: convert})\n",
    "    dataset[:,0] -= dataset[0,0]\n",
    "    dataset = pd.DataFrame(dataset,columns=colnames)\n",
    "    slope = np.array([])\n",
    "    window_size_half = 8\n",
    "    for j in dataset.index:\n",
    "        index = np.arange(j-window_size_half+1, j+window_size_half+1)\n",
    "        index = index[(index >= 0) & (index < len(dataset))]\n",
    "        dataset_part = dataset.iloc[index].dropna()\n",
    "        regr = lm.LinearRegression()\n",
    "        regr.fit(dataset_part.distance[:,np.newaxis], np.array(dataset_part.elevation))\n",
    "        slope = np.append(slope,regr.coef_)\n",
    "    dataset['slope'] = slope\n",
    "    if (len(dataset) > 300) == (len(dataset) < 900):\n",
    "        datasets_all.append(dataset)\n",
    "\n",
    "print('\\nDataset sample')\n",
    "print(datasets_all[0][:10])"
   ]
  },
  {
   "cell_type": "code",
   "execution_count": 3,
   "metadata": {
    "collapsed": false
   },
   "outputs": [],
   "source": [
    "# Number of points taken for each prediction\n",
    "NB_POINTS = 10\n",
    "# Number of races taken for the training set\n",
    "NB_TRAINING = 1\n",
    "# Number of races taken for the testing set\n",
    "NB_TEST = 5 \n",
    "\n",
    "dataset = datasets_all\n",
    "\n",
    "# Creation of train set\n",
    "# for race in range(NB_TRAINING):\n",
    "#     print('Race={}'.format(race))\n",
    "#     seq = []\n",
    "#     next_speed = []\n",
    "#     for i in range(len(dataset[race])-(NB_POINTS+1)):\n",
    "#         seq.append(dataset[race][i:i+NB_POINTS].as_matrix())\n",
    "#         next_speed.append(dataset[race][i+NB_POINTS:i+NB_POINTS+1]['speed'].as_matrix())\n",
    "#         trainX = np.array(seq)\n",
    "#         trainY = np.array(next_speed)\n",
    "\n",
    "#         model.fit(trainX, trainY, epochs=5, batch_size=BATCH_SIZE, verbose=1)\n",
    "\n",
    "seq = []\n",
    "next_speed = []\n",
    "        \n",
    "for i in range(len(dataset[0])-(NB_POINTS+1)):\n",
    "    seq.append(dataset[0][i:i+NB_POINTS].as_matrix())\n",
    "    next_speed.append(dataset[0][i+NB_POINTS:i+NB_POINTS+1]['speed'].as_matrix())\n",
    "    \n",
    "trainX = np.array(seq)\n",
    "trainY = np.array(next_speed)\n",
    "\n",
    "# Shuffle data\n",
    "trainX, trainY = shuffle(trainX, trainY, random_state=42)\n",
    "        \n",
    "# Creation of test set\n",
    "seq_test = []\n",
    "next_speed_test = []\n",
    "\n",
    "# for race in range(NB_TRAINING, NB_TRAINING + NB_TEST):\n",
    "#     print('Race={}'.format(race))\n",
    "#     for i in range(len(dataset[race])-(NB_POINTS+1)):\n",
    "#         seq_test.append(dataset[race][i:i+NB_POINTS].as_matrix())\n",
    "#         next_speed_test.append(dataset[race][i+NB_POINTS:i+NB_POINTS+1]['speed'].as_matrix())\n",
    "for i in range(len(dataset[1])-(NB_POINTS+1)):\n",
    "    seq_test.append(dataset[1][i:i+NB_POINTS].as_matrix())\n",
    "    next_speed_test.append(dataset[1][i+NB_POINTS:i+NB_POINTS+1]['speed'].as_matrix())\n",
    "    \n",
    "testX = np.array(seq_test)\n",
    "testY = np.array(next_speed_test)"
   ]
  },
  {
   "cell_type": "code",
   "execution_count": 4,
   "metadata": {
    "collapsed": false
   },
   "outputs": [
    {
     "name": "stdout",
     "output_type": "stream",
     "text": [
      "_________________________________________________________________\n",
      "Layer (type)                 Output Shape              Param #   \n",
      "=================================================================\n",
      "lstm_1 (LSTM)                (None, 4)                 160       \n",
      "_________________________________________________________________\n",
      "dense_1 (Dense)              (None, 1)                 5         \n",
      "=================================================================\n",
      "Total params: 165\n",
      "Trainable params: 165\n",
      "Non-trainable params: 0\n",
      "_________________________________________________________________\n"
     ]
    }
   ],
   "source": [
    "BATCH_SIZE = 1\n",
    "LEARNING_RATE = 0.01\n",
    "\n",
    "# Create and fit the LSTM network\n",
    "model = Sequential()\n",
    "model.add(LSTM(4, input_shape=(10, 5)))\n",
    "model.add(Dense(1))\n",
    "#model.compile(loss='mean_squared_error', optimizer=RMSprop(lr=LEARNING_RATE), metrics=['accuracy'])\n",
    "model.compile(loss='mean_squared_error', optimizer='adam')\n",
    "model.summary()"
   ]
  },
  {
   "cell_type": "code",
   "execution_count": 5,
   "metadata": {
    "collapsed": false
   },
   "outputs": [
    {
     "name": "stdout",
     "output_type": "stream",
     "text": [
      "Train on 605 samples, validate on 714 samples\n",
      "Epoch 1/15\n",
      "605/605 [==============================] - 7s - loss: 6.6361 - val_loss: 3.3279\n",
      "Epoch 2/15\n",
      "605/605 [==============================] - 7s - loss: 2.9023 - val_loss: 1.3446\n",
      "Epoch 3/15\n",
      "605/605 [==============================] - 7s - loss: 1.0752 - val_loss: 0.6640\n",
      "Epoch 4/15\n",
      "605/605 [==============================] - 6s - loss: 0.3540 - val_loss: 0.5951\n",
      "Epoch 5/15\n",
      "605/605 [==============================] - 5s - loss: 0.1536 - val_loss: 0.6721\n",
      "Epoch 6/15\n",
      "605/605 [==============================] - 6s - loss: 0.1178 - val_loss: 0.7278\n",
      "Epoch 7/15\n",
      "605/605 [==============================] - 5s - loss: 0.1138 - val_loss: 0.7454\n",
      "Epoch 8/15\n",
      "605/605 [==============================] - 5s - loss: 0.1134 - val_loss: 0.7540\n",
      "Epoch 9/15\n",
      "605/605 [==============================] - 5s - loss: 0.1133 - val_loss: 0.7455\n",
      "Epoch 10/15\n",
      "605/605 [==============================] - 5s - loss: 0.1133 - val_loss: 0.7368\n",
      "Epoch 11/15\n",
      "605/605 [==============================] - 5s - loss: 0.1131 - val_loss: 0.7629\n",
      "Epoch 12/15\n",
      "605/605 [==============================] - 5s - loss: 0.1130 - val_loss: 0.7343\n",
      "Epoch 13/15\n",
      "605/605 [==============================] - 6s - loss: 0.1132 - val_loss: 0.7311\n",
      "Epoch 14/15\n",
      "605/605 [==============================] - 6s - loss: 0.1134 - val_loss: 0.7473\n",
      "Epoch 15/15\n",
      "605/605 [==============================] - 6s - loss: 0.1133 - val_loss: 0.7370\n"
     ]
    }
   ],
   "source": [
    "history = model.fit(trainX, trainY, epochs=15, batch_size=BATCH_SIZE, verbose=1, \n",
    "                   validation_data=(testX, testY))"
   ]
  },
  {
   "cell_type": "code",
   "execution_count": 6,
   "metadata": {
    "collapsed": false
   },
   "outputs": [
    {
     "data": {
      "image/png": "[encoded data removed]",
      "text/plain": [
       "<matplotlib.figure.Figure at 0x7f00dd34d6d8>"
      ]
     },
     "metadata": {},
     "output_type": "display_data"
    }
   ],
   "source": [
    "# Plot the training and testing\n",
    "pl.plot(history.history['loss'], label='Training')\n",
    "pl.plot(history.history['val_loss'], label='Testing')\n",
    "pl.legend()\n",
    "pl.grid()"
   ]
  },
  {
   "cell_type": "code",
   "execution_count": 7,
   "metadata": {
    "collapsed": false
   },
   "outputs": [
    {
     "data": {
      "application/json": {
       "Software versions": [
        {
         "module": "Python",
         "version": "3.6.1 64bit [GCC 6.3.1 20170306]"
        },
        {
         "module": "IPython",
         "version": "6.0.0"
        },
        {
         "module": "OS",
         "version": "Linux 4.10.13 1 ARCH x86_64 with arch"
        },
        {
         "module": "numpy",
         "version": "1.12.0"
        },
        {
         "module": "matplotlib",
         "version": "2.0.0"
        },
        {
         "module": "keras",
         "version": "2.0.3"
        },
        {
         "module": "pandas",
         "version": "0.19.2"
        },
        {
         "module": "sklearn",
         "version": "0.18.1"
        },
        {
         "module": "tensorflow",
         "version": "1.1.0"
        }
       ]
      },
      "text/html": [
       "<table><tr><th>Software</th><th>Version</th></tr><tr><td>Python</td><td>3.6.1 64bit [GCC 6.3.1 20170306]</td></tr><tr><td>IPython</td><td>6.0.0</td></tr><tr><td>OS</td><td>Linux 4.10.13 1 ARCH x86_64 with arch</td></tr><tr><td>numpy</td><td>1.12.0</td></tr><tr><td>matplotlib</td><td>2.0.0</td></tr><tr><td>keras</td><td>2.0.3</td></tr><tr><td>pandas</td><td>0.19.2</td></tr><tr><td>sklearn</td><td>0.18.1</td></tr><tr><td>tensorflow</td><td>1.1.0</td></tr><tr><td colspan='2'>Wed May 17 18:00:22 2017 CEST</td></tr></table>"
      ],
      "text/latex": [
       "\\begin{tabular}{|l|l|}\\hline\n",
       "{\\bf Software} & {\\bf Version} \\\\ \\hline\\hline\n",
       "Python & 3.6.1 64bit [GCC 6.3.1 20170306] \\\\ \\hline\n",
       "IPython & 6.0.0 \\\\ \\hline\n",
       "OS & Linux 4.10.13 1 ARCH x86\\_64 with arch \\\\ \\hline\n",
       "numpy & 1.12.0 \\\\ \\hline\n",
       "matplotlib & 2.0.0 \\\\ \\hline\n",
       "keras & 2.0.3 \\\\ \\hline\n",
       "pandas & 0.19.2 \\\\ \\hline\n",
       "sklearn & 0.18.1 \\\\ \\hline\n",
       "tensorflow & 1.1.0 \\\\ \\hline\n",
       "\\hline \\multicolumn{2}{|l|}{Wed May 17 18:00:22 2017 CEST} \\\\ \\hline\n",
       "\\end{tabular}\n"
      ],
      "text/plain": [
       "Software versions\n",
       "Python 3.6.1 64bit [GCC 6.3.1 20170306]\n",
       "IPython 6.0.0\n",
       "OS Linux 4.10.13 1 ARCH x86_64 with arch\n",
       "numpy 1.12.0\n",
       "matplotlib 2.0.0\n",
       "keras 2.0.3\n",
       "pandas 0.19.2\n",
       "sklearn 0.18.1\n",
       "tensorflow 1.1.0\n",
       "Wed May 17 18:00:22 2017 CEST"
      ]
     },
     "execution_count": 7,
     "metadata": {},
     "output_type": "execute_result"
    }
   ],
   "source": [
    "# Information about software version\n",
    "%load_ext version_information\n",
    "%reload_ext version_information\n",
    "\n",
    "%version_information numpy, matplotlib, keras, pandas, sklearn, tensorflow"
   ]
  },
  {
   "cell_type": "code",
   "execution_count": null,
   "metadata": {
    "collapsed": true
   },
   "outputs": [],
   "source": []
  }
 ],
 "metadata": {
  "kernelspec": {
   "display_name": "Python 3",
   "language": "python",
   "name": "python3"
  },
  "language_info": {
   "codemirror_mode": {
    "name": "ipython",
    "version": 3
   },
   "file_extension": ".py",
   "mimetype": "text/x-python",
   "name": "python",
   "nbconvert_exporter": "python",
   "pygments_lexer": "ipython3",
   "version": "3.6.1"
  }
 },
 "nbformat": 4,
 "nbformat_minor": 2
}
