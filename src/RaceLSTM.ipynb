{
 "cells": [
  {
   "cell_type": "markdown",
   "metadata": {},
   "source": [
    "# Race LSTM prediction\n",
    "The aim of this notebook is to train a LSTM model being able to predict speed of the runner at the next data point."
   ]
  },
  {
   "cell_type": "code",
   "execution_count": 58,
   "metadata": {
    "collapsed": true
   },
   "outputs": [],
   "source": [
    "### Load the dataset"
   ]
  },
  {
   "cell_type": "code",
   "execution_count": 1,
   "metadata": {
    "collapsed": false
   },
   "outputs": [
    {
     "name": "stdout",
     "output_type": "stream",
     "text": [
      "Processing activity_437398751.tab\n",
      "Processing activity_437398728.tab\n",
      "Processing activity_404227667.tab\n",
      "Processing activity_437398762.tab\n",
      "Processing activity_377304158.tab\n",
      "Processing activity_447149230.tab\n",
      "Processing activity_437398739.tab\n",
      "Processing activity_437398771.tab\n",
      "Processing activity_396872154.tab\n",
      "Processing activity_447656990.tab\n",
      "Processing activity_373735080.tab\n",
      "Processing activity_373734948.tab\n",
      "Processing activity_437398768.tab\n",
      "Processing activity_437398746.tab\n",
      "Processing activity_404227656.tab\n",
      "Processing activity_437398721.tab\n",
      "Processing activity_437398717.tab\n",
      "Processing activity_437398782.tab\n",
      "Processing activity_373735106.tab\n",
      "Processing activity_437398753.tab\n",
      "Processing activity_437398761.tab\n",
      "Processing activity_377304230.tab\n",
      "Processing activity_437398778.tab\n",
      "Processing activity_437398785.tab\n",
      "Processing activity_379843442.tab\n",
      "Processing activity_404227695.tab\n",
      "Processing activity_367230665.tab\n",
      "Processing activity_447149252.tab\n",
      "Processing activity_447149261.tab\n",
      "Processing activity_447149239.tab\n",
      "Processing activity_404227677.tab\n",
      "Processing activity_384747476.tab\n",
      "Processing activity_373735010.tab\n"
     ]
    }
   ],
   "source": [
    "import glob\n",
    "import os\n",
    "import numpy as np\n",
    "import pandas as pd\n",
    "import sklearn.linear_model as lm\n",
    "import matplotlib.pyplot as plt\n",
    "import dateutil.parser\n",
    "from datetime import datetime\n",
    "\n",
    "path = \"../data/running/APE_running_data\"\n",
    "\n",
    "def convert(date):\n",
    "    dt = dateutil.parser.parse(date).replace(tzinfo=None)\n",
    "    epoch = datetime.utcfromtimestamp(0)\n",
    "    delta = dt - epoch\n",
    "    return delta.total_seconds()\n",
    "\n",
    "colnames = np.array(['time', 'elevation', 'distance', 'speed'])\n",
    "Datasets_all = []\n",
    "\n",
    "os.chdir(path)\n",
    "for file in glob.glob(\"*.tab\"):\n",
    "    print(\"Processing {}\".format(file))\n",
    "    dataset = np.genfromtxt(file, skip_header=1,delimiter='\\t', converters={0: convert})\n",
    "    dataset[:,0] -= dataset[0,0]\n",
    "    dataset = pd.DataFrame(dataset,columns=colnames)\n",
    "    slope = np.array([])\n",
    "    window_size_half = 8\n",
    "    for j in dataset.index:\n",
    "        index = np.arange(j-window_size_half+1, j+window_size_half+1)\n",
    "        index = index[(index >= 0) & (index < len(dataset))]\n",
    "        dataset_part = dataset.iloc[index].dropna()\n",
    "        regr = lm.LinearRegression()\n",
    "        regr.fit(dataset_part.distance[:,np.newaxis], np.array(dataset_part.elevation))\n",
    "        slope = np.append(slope,regr.coef_)\n",
    "    dataset['slope'] = slope\n",
    "    if (len(dataset) > 300) == (len(dataset) < 900):\n",
    "        Datasets_all.append(dataset)\n"
   ]
  },
  {
   "cell_type": "code",
   "execution_count": 38,
   "metadata": {
    "collapsed": false
   },
   "outputs": [
    {
     "name": "stderr",
     "output_type": "stream",
     "text": [
      "Using TensorFlow backend.\n"
     ]
    }
   ],
   "source": [
    "import numpy as np\n",
    "from matplotlib import pyplot as pl\n",
    "\n",
    "from keras.models import Sequential\n",
    "from keras.layers import Dense, Activation, Dropout\n",
    "from keras.layers import LSTM\n",
    "from keras.optimizers import RMSprop\n",
    "from keras.utils import np_utils\n",
    "\n",
    "from sklearn import metrics as me\n",
    "\n",
    "%matplotlib inline"
   ]
  },
  {
   "cell_type": "code",
   "execution_count": 32,
   "metadata": {
    "collapsed": false
   },
   "outputs": [],
   "source": [
    "LENGTH = 10\n",
    "dataset = Datasets_all\n",
    "seq = []\n",
    "next_speed = []\n",
    "\n",
    "len(dataset[0])\n",
    "\n",
    "for i in range(len(dataset[0])-(LENGTH+1)):\n",
    "    seq.append(dataset[0][i:i+LENGTH].as_matrix())\n",
    "    next_speed.append(dataset[0][i+LENGTH:i+LENGTH+1]['speed'].as_matrix())"
   ]
  },
  {
   "cell_type": "code",
   "execution_count": 52,
   "metadata": {
    "collapsed": true
   },
   "outputs": [],
   "source": [
    "seq_test = []\n",
    "next_speed_test = []\n",
    "\n",
    "for i in range(len(dataset[1])-(LENGTH+1)):\n",
    "    seq_test.append(dataset[1][i:i+LENGTH].as_matrix())\n",
    "    next_speed_test.append(dataset[1][i+LENGTH:i+LENGTH+1]['speed'].as_matrix())\n",
    "    \n",
    "testX = np.array(seq_test)\n",
    "testY = np.array(next_speed_test)"
   ]
  },
  {
   "cell_type": "code",
   "execution_count": 54,
   "metadata": {
    "collapsed": false
   },
   "outputs": [
    {
     "name": "stdout",
     "output_type": "stream",
     "text": [
      "_________________________________________________________________\n",
      "Layer (type)                 Output Shape              Param #   \n",
      "=================================================================\n",
      "lstm_5 (LSTM)                (None, 4)                 160       \n",
      "_________________________________________________________________\n",
      "dense_5 (Dense)              (None, 1)                 5         \n",
      "=================================================================\n",
      "Total params: 165\n",
      "Trainable params: 165\n",
      "Non-trainable params: 0\n",
      "_________________________________________________________________\n"
     ]
    }
   ],
   "source": [
    "trainX = np.array(seq)\n",
    "trainY = np.array(next_speed)\n",
    "\n",
    "batch_size = 1\n",
    "# create and fit the LSTM network\n",
    "model = Sequential()\n",
    "model.add(LSTM(4, input_shape=(10, 5)))\n",
    "model.add(Dense(1))\n",
    "model.compile(loss='mean_squared_error', optimizer='adam')\n",
    "model.summary()"
   ]
  },
  {
   "cell_type": "code",
   "execution_count": 55,
   "metadata": {
    "collapsed": false
   },
   "outputs": [
    {
     "name": "stdout",
     "output_type": "stream",
     "text": [
      "Train on 605 samples, validate on 714 samples\n",
      "Epoch 1/25\n",
      "605/605 [==============================] - 8s - loss: 5.2588 - val_loss: 2.0382\n",
      "Epoch 2/25\n",
      "605/605 [==============================] - 6s - loss: 1.5038 - val_loss: 0.7532\n",
      "Epoch 3/25\n",
      "605/605 [==============================] - 7s - loss: 0.6266 - val_loss: 0.8579\n",
      "Epoch 4/25\n",
      "605/605 [==============================] - 6s - loss: 0.4966 - val_loss: 0.9332\n",
      "Epoch 5/25\n",
      "605/605 [==============================] - 8s - loss: 0.4610 - val_loss: 0.9563\n",
      "Epoch 6/25\n",
      "605/605 [==============================] - 7s - loss: 0.4275 - val_loss: 0.9447\n",
      "Epoch 7/25\n",
      "605/605 [==============================] - 7s - loss: 0.3958 - val_loss: 0.9128\n",
      "Epoch 8/25\n",
      "605/605 [==============================] - 7s - loss: 0.3631 - val_loss: 0.8658\n",
      "Epoch 9/25\n",
      "605/605 [==============================] - 4s - loss: 0.3341 - val_loss: 0.8624\n",
      "Epoch 10/25\n",
      "605/605 [==============================] - 4s - loss: 0.3069 - val_loss: 0.8406\n",
      "Epoch 11/25\n",
      "605/605 [==============================] - 4s - loss: 0.2828 - val_loss: 0.8207\n",
      "Epoch 12/25\n",
      "605/605 [==============================] - 5s - loss: 0.2576 - val_loss: 0.8012\n",
      "Epoch 13/25\n",
      "605/605 [==============================] - 6s - loss: 0.2321 - val_loss: 0.8039\n",
      "Epoch 14/25\n",
      "605/605 [==============================] - 6s - loss: 0.2161 - val_loss: 0.8013\n",
      "Epoch 15/25\n",
      "605/605 [==============================] - 9s - loss: 0.2014 - val_loss: 0.7569\n",
      "Epoch 16/25\n",
      "605/605 [==============================] - 6s - loss: 0.1891 - val_loss: 0.7517\n",
      "Epoch 17/25\n",
      "605/605 [==============================] - 5s - loss: 0.1779 - val_loss: 0.7628\n",
      "Epoch 18/25\n",
      "605/605 [==============================] - 5s - loss: 0.1691 - val_loss: 0.7629\n",
      "Epoch 19/25\n",
      "605/605 [==============================] - 6s - loss: 0.1608 - val_loss: 0.7638\n",
      "Epoch 20/25\n",
      "605/605 [==============================] - 6s - loss: 0.1542 - val_loss: 0.7478\n",
      "Epoch 21/25\n",
      "605/605 [==============================] - 10s - loss: 0.1484 - val_loss: 0.7504\n",
      "Epoch 22/25\n",
      "605/605 [==============================] - 8s - loss: 0.1432 - val_loss: 0.7405\n",
      "Epoch 23/25\n",
      "605/605 [==============================] - 8s - loss: 0.1392 - val_loss: 0.7617\n",
      "Epoch 24/25\n",
      "605/605 [==============================] - 9s - loss: 0.1358 - val_loss: 0.7372\n",
      "Epoch 25/25\n",
      "605/605 [==============================] - 7s - loss: 0.1334 - val_loss: 0.7424\n"
     ]
    }
   ],
   "source": [
    "history = model.fit(trainX, trainY, epochs=15, batch_size=batch_size, verbose=1, \n",
    "                   validation_data=(testX, testY))"
   ]
  },
  {
   "cell_type": "code",
   "execution_count": 57,
   "metadata": {
    "collapsed": false
   },
   "outputs": [
    {
     "data": {
      "image/png": "[encoded data removed]",
      "text/plain": [
       "<matplotlib.figure.Figure at 0x7ff47d8914a8>"
      ]
     },
     "metadata": {},
     "output_type": "display_data"
    }
   ],
   "source": [
    "pl.plot(history.history['loss'], label='Training')\n",
    "pl.plot(history.history['val_loss'], label='Testing')\n",
    "pl.legend()\n",
    "pl.grid()"
   ]
  },
  {
   "cell_type": "code",
   "execution_count": 63,
   "metadata": {
    "collapsed": false
   },
   "outputs": [
    {
     "data": {
      "application/json": {
       "Software versions": [
        {
         "module": "Python",
         "version": "3.6.1 64bit [GCC 6.3.1 20170306]"
        },
        {
         "module": "IPython",
         "version": "6.0.0"
        },
        {
         "module": "OS",
         "version": "Linux 4.10.13 1 ARCH x86_64 with arch"
        },
        {
         "module": "numpy",
         "version": "1.12.0"
        },
        {
         "module": "matplotlib",
         "version": "2.0.0"
        },
        {
         "module": "keras",
         "version": "2.0.3"
        },
        {
         "module": "pandas",
         "version": "0.19.2"
        }
       ]
      },
      "text/html": [
       "<table><tr><th>Software</th><th>Version</th></tr><tr><td>Python</td><td>3.6.1 64bit [GCC 6.3.1 20170306]</td></tr><tr><td>IPython</td><td>6.0.0</td></tr><tr><td>OS</td><td>Linux 4.10.13 1 ARCH x86_64 with arch</td></tr><tr><td>numpy</td><td>1.12.0</td></tr><tr><td>matplotlib</td><td>2.0.0</td></tr><tr><td>keras</td><td>2.0.3</td></tr><tr><td>pandas</td><td>0.19.2</td></tr><tr><td colspan='2'>Wed May 17 11:45:28 2017 CEST</td></tr></table>"
      ],
      "text/latex": [
       "\\begin{tabular}{|l|l|}\\hline\n",
       "{\\bf Software} & {\\bf Version} \\\\ \\hline\\hline\n",
       "Python & 3.6.1 64bit [GCC 6.3.1 20170306] \\\\ \\hline\n",
       "IPython & 6.0.0 \\\\ \\hline\n",
       "OS & Linux 4.10.13 1 ARCH x86\\_64 with arch \\\\ \\hline\n",
       "numpy & 1.12.0 \\\\ \\hline\n",
       "matplotlib & 2.0.0 \\\\ \\hline\n",
       "keras & 2.0.3 \\\\ \\hline\n",
       "pandas & 0.19.2 \\\\ \\hline\n",
       "\\hline \\multicolumn{2}{|l|}{Wed May 17 11:45:28 2017 CEST} \\\\ \\hline\n",
       "\\end{tabular}\n"
      ],
      "text/plain": [
       "Software versions\n",
       "Python 3.6.1 64bit [GCC 6.3.1 20170306]\n",
       "IPython 6.0.0\n",
       "OS Linux 4.10.13 1 ARCH x86_64 with arch\n",
       "numpy 1.12.0\n",
       "matplotlib 2.0.0\n",
       "keras 2.0.3\n",
       "pandas 0.19.2\n",
       "Wed May 17 11:45:28 2017 CEST"
      ]
     },
     "execution_count": 63,
     "metadata": {},
     "output_type": "execute_result"
    }
   ],
   "source": [
    "%load_ext version_information\n",
    "%reload_ext version_information\n",
    "\n",
    "%version_information numpy, matplotlib, keras, pandas"
   ]
  },
  {
   "cell_type": "code",
   "execution_count": null,
   "metadata": {
    "collapsed": true
   },
   "outputs": [],
   "source": []
  }
 ],
 "metadata": {
  "kernelspec": {
   "display_name": "Python 3",
   "language": "python",
   "name": "python3"
  },
  "language_info": {
   "codemirror_mode": {
    "name": "ipython",
    "version": 3
   },
   "file_extension": ".py",
   "mimetype": "text/x-python",
   "name": "python",
   "nbconvert_exporter": "python",
   "pygments_lexer": "ipython3",
   "version": "3.6.1"
  }
 },
 "nbformat": 4,
 "nbformat_minor": 2
}
