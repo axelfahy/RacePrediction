{
 "cells": [
  {
   "cell_type": "code",
   "execution_count": 3,
   "metadata": {
    "collapsed": false,
    "scrolled": true
   },
   "outputs": [
    {
     "name": "stdout",
     "output_type": "stream",
     "text": [
      "Processing activity_437398751.tab\n",
      "Processing activity_437398728.tab\n",
      "Processing activity_404227667.tab\n",
      "Processing activity_437398762.tab\n",
      "Processing activity_377304158.tab\n",
      "Processing activity_447149230.tab\n",
      "Processing activity_437398739.tab\n",
      "Processing activity_437398771.tab\n",
      "Processing activity_396872154.tab\n",
      "Processing activity_447656990.tab\n",
      "Processing activity_373735080.tab\n",
      "Processing activity_373734948.tab\n",
      "Processing activity_437398768.tab\n",
      "Processing activity_437398746.tab\n",
      "Processing activity_404227656.tab\n",
      "Processing activity_437398721.tab\n",
      "Processing activity_437398717.tab\n",
      "Processing activity_437398782.tab\n",
      "Processing activity_373735106.tab\n",
      "Processing activity_437398753.tab\n",
      "Processing activity_437398761.tab\n",
      "Processing activity_377304230.tab\n",
      "Processing activity_437398778.tab\n",
      "Processing activity_437398785.tab\n",
      "Processing activity_379843442.tab\n",
      "Processing activity_404227695.tab\n",
      "Processing activity_367230665.tab\n",
      "Processing activity_447149252.tab\n",
      "Processing activity_447149261.tab\n",
      "Processing activity_447149239.tab\n",
      "Processing activity_404227677.tab\n",
      "Processing activity_384747476.tab\n",
      "Processing activity_373735010.tab\n"
     ]
    }
   ],
   "source": [
    "import glob\n",
    "import os\n",
    "import numpy as np\n",
    "import pandas as pd\n",
    "import sklearn.linear_model as lm\n",
    "import matplotlib.pyplot as plt\n",
    "import dateutil.parser\n",
    "from datetime import datetime\n",
    "\n",
    "path = \"./APE_running_data\"\n",
    "\n",
    "def convert(date):\n",
    "    dt = dateutil.parser.parse(date).replace(tzinfo=None)\n",
    "    epoch = datetime.utcfromtimestamp(0)\n",
    "    delta = dt - epoch\n",
    "    return delta.total_seconds()\n",
    "\n",
    "colnames = np.array(['time', 'elevation', 'distance', 'speed'])\n",
    "Datasets_all = []\n",
    "\n",
    "os.chdir(path)\n",
    "for file in glob.glob(\"*.tab\"):\n",
    "    print(\"Processing {}\".format(file))\n",
    "    dataset = np.genfromtxt(file, skip_header=1,delimiter='\\t', converters={0: convert})\n",
    "    dataset[:,0] -= dataset[0,0]\n",
    "    dataset = pd.DataFrame(dataset,columns=colnames)\n",
    "    slope = np.array([])\n",
    "    window_size_half = 8\n",
    "    for j in dataset.index:\n",
    "        index = np.arange(j-window_size_half+1, j+window_size_half+1)\n",
    "        index = index[(index >= 0) & (index < len(dataset))]\n",
    "        dataset_part = dataset.iloc[index].dropna()\n",
    "        regr = lm.LinearRegression()\n",
    "        regr.fit(dataset_part.distance[:,np.newaxis], np.array(dataset_part.elevation))\n",
    "        slope = np.append(slope,regr.coef_)\n",
    "    dataset['slope'] = slope\n",
    "    if (len(dataset) > 300) == (len(dataset) < 900):\n",
    "        Datasets_all.append(dataset)\n"
   ]
  },
  {
   "cell_type": "markdown",
   "metadata": {},
   "source": [
    "Number of training sessions:"
   ]
  },
  {
   "cell_type": "code",
   "execution_count": 4,
   "metadata": {
    "collapsed": false
   },
   "outputs": [
    {
     "data": {
      "text/plain": [
       "30"
      ]
     },
     "execution_count": 4,
     "metadata": {},
     "output_type": "execute_result"
    }
   ],
   "source": [
    "len(Datasets_all)"
   ]
  },
  {
   "cell_type": "code",
   "execution_count": 9,
   "metadata": {
    "collapsed": false
   },
   "outputs": [
    {
     "name": "stdout",
     "output_type": "stream",
     "text": [
      "<class 'list'>\n",
      "<class 'pandas.core.frame.DataFrame'>\n",
      "616\n",
      "   time   elevation   distance  speed     slope\n",
      "0   0.0  858.400024   0.500000  2.372  0.057380\n",
      "1   1.0  858.400024   1.740000  2.187  0.056713\n",
      "2   4.0  859.200012  11.300000  2.425  0.056653\n",
      "3   5.0  859.400024  15.210000  2.690  0.057973\n",
      "4  11.0  861.000000  36.490002  3.122  0.054931\n",
      "5  15.0  861.400024  47.270000  3.382  0.053070\n",
      "6  20.0  861.799988  61.230000  2.904  0.051486\n",
      "7  25.0  862.400024  72.169998  2.486  0.050327\n",
      "8  29.0  863.200012  81.059998  2.401  0.048273\n",
      "9  34.0  863.799988  94.839996  2.426  0.043934\n",
      "10    2.795\n",
      "Name: speed, dtype: float64\n",
      "   time   elevation  distance  speed    slope\n",
      "0   0.0  858.400024       0.5  2.372  0.05738\n",
      "1    2.187\n",
      "Name: speed, dtype: float64\n"
     ]
    }
   ],
   "source": [
    "print(type(Datasets_all))\n",
    "print(type(Datasets_all[0]))\n",
    "print(len(Datasets_all[0]))\n",
    "LENGTH = 10\n",
    "print(Datasets_all[0][:LENGTH])\n",
    "#print(Datasets_all[Datasets_all.columns.difference(['speed'])])\n",
    "print(Datasets_all[0][LENGTH:LENGTH+1]['speed'])\n",
    "print(Datasets_all[0][:1])\n",
    "print(Datasets_all[0][1:2]['speed'])"
   ]
  },
  {
   "cell_type": "code",
   "execution_count": 5,
   "metadata": {
    "collapsed": true
   },
   "outputs": [],
   "source": [
    "%matplotlib inline\n",
    "import pylab as pl"
   ]
  },
  {
   "cell_type": "code",
   "execution_count": 6,
   "metadata": {
    "collapsed": false
   },
   "outputs": [
    {
     "data": {
      "text/plain": [
       "[<matplotlib.lines.Line2D at 0x7ff36cdc6320>]"
      ]
     },
     "execution_count": 6,
     "metadata": {},
     "output_type": "execute_result"
    },
    {
     "data": {
      "image/png": "[encoded data removed]",
      "text/plain": [
       "<matplotlib.figure.Figure at 0x7ff33116ddd8>"
      ]
     },
     "metadata": {},
     "output_type": "display_data"
    }
   ],
   "source": [
    "race = 6 \n",
    "ds = Datasets_all[race]\n",
    "pl.plot(ds['time'],ds['elevation'] )"
   ]
  },
  {
   "cell_type": "code",
   "execution_count": null,
   "metadata": {
    "collapsed": true
   },
   "outputs": [],
   "source": []
  }
 ],
 "metadata": {
  "kernelspec": {
   "display_name": "Python 3",
   "language": "python",
   "name": "python3"
  },
  "language_info": {
   "codemirror_mode": {
    "name": "ipython",
    "version": 3
   },
   "file_extension": ".py",
   "mimetype": "text/x-python",
   "name": "python",
   "nbconvert_exporter": "python",
   "pygments_lexer": "ipython3",
   "version": "3.6.1"
  }
 },
 "nbformat": 4,
 "nbformat_minor": 0
}
